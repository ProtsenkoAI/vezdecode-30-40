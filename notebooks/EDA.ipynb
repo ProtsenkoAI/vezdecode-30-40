{
 "cells": [
  {
   "cell_type": "code",
   "execution_count": 254,
   "id": "ed4546a7-97c6-429a-90b6-40d1436ccd45",
   "metadata": {},
   "outputs": [
    {
     "name": "stdout",
     "output_type": "stream",
     "text": [
      "Requirement already satisfied: tinycss in /home/arseny/.local/share/virtualenvs/vezdecode-30-40-50-webvec-tg1FAYMA/lib/python3.8/site-packages (0.4)\n",
      "Collecting lxml\n",
      "  Downloading lxml-4.6.3-cp38-cp38-manylinux2014_x86_64.whl (6.8 MB)\n",
      "\u001b[K     |████████████████████████████████| 6.8 MB 13.2 MB/s eta 0:00:01\n",
      "\u001b[?25hCollecting cssselect\n",
      "  Downloading cssselect-1.1.0-py2.py3-none-any.whl (16 kB)\n",
      "Installing collected packages: lxml, cssselect\n",
      "Successfully installed cssselect-1.1.0 lxml-4.6.3\n"
     ]
    }
   ],
   "source": [
    "!pip install tinycss lxml cssselect"
   ]
  },
  {
   "cell_type": "code",
   "execution_count": 42,
   "id": "1a03496a-6616-4caa-ba08-48712921e298",
   "metadata": {},
   "outputs": [],
   "source": [
    "from bs4 import BeautifulSoup, Tag\n",
    "from typing import List\n",
    "from collections import defaultdict"
   ]
  },
  {
   "cell_type": "code",
   "execution_count": 2,
   "id": "c8108c3d-ae3a-45b1-86d3-e8b01d877856",
   "metadata": {},
   "outputs": [],
   "source": [
    "DATA_PTH = \"../data/\""
   ]
  },
  {
   "cell_type": "code",
   "execution_count": 419,
   "id": "9daeef70-9810-4dbd-a1e3-635aa8e268df",
   "metadata": {},
   "outputs": [],
   "source": [
    "with open(DATA_PTH + \"Raiffeisen Online.html\") as f:\n",
    "    html_content = f.read()"
   ]
  },
  {
   "cell_type": "code",
   "execution_count": 420,
   "id": "cf597aae-d11a-4f31-8464-17f63700a221",
   "metadata": {},
   "outputs": [],
   "source": [
    "soup = BeautifulSoup(html_content, \"html.parser\")"
   ]
  },
  {
   "cell_type": "code",
   "execution_count": 790,
   "id": "2d768b57-3e14-4a50-af42-91be96c4426b",
   "metadata": {},
   "outputs": [],
   "source": [
    "header_tag_names = [f\"h{header_type}\" for header_type in range(1, 6 + 1)]\n",
    "text_tags = header_tag_names + [\"p\", \"span\", \"div\"]"
   ]
  },
  {
   "cell_type": "code",
   "execution_count": 421,
   "id": "1b443842-5fb3-4c79-b502-1003636d75ad",
   "metadata": {},
   "outputs": [
    {
     "name": "stdout",
     "output_type": "stream",
     "text": [
      "['Войти в онлайн-банк', 'Мобильный банк на каждый день']\n",
      "['Возможности', 'Возможности', 'Подключить мобильный банк']\n",
      "['Все виды переводов', 'Управление продуктами', 'Оплата услуг', 'Онлайн сервисы', 'Все виды переводов', 'Управление продуктами', 'Оплата услуг', 'Онлайн сервисы']\n"
     ]
    }
   ],
   "source": [
    "# for header_type in range(1, 6 + 1):\n",
    "#     tags = soup.find_all(f\"h{header_type}\")\n",
    "#     if tags:\n",
    "#         print([tag.text for tag in tags])"
   ]
  },
  {
   "cell_type": "code",
   "execution_count": 688,
   "id": "70f959a4-c532-432d-8c2c-5f4e2f0eee03",
   "metadata": {},
   "outputs": [
    {
     "data": {
      "text/plain": [
       "['https://online.raiffeisen.ru/import/old-browsers/index.html',\n",
       " 'tel:+74957755203',\n",
       " 'tel:88007000072',\n",
       " 'https://online.raiffeisen.ru/login/main',\n",
       " 'https://www.raiffeisen.ru/',\n",
       " 'https://online.raiffeisen.ru/login/main',\n",
       " 'https://online.raiffeisen.ru/login/tariff',\n",
       " 'https://online.raiffeisen.ru/login/qa',\n",
       " 'https://online.raiffeisen.ru/demo/',\n",
       " 'https://online.raiffeisen.ru/login/main',\n",
       " 'https://www.raiffeisen.ru/retail/cards/',\n",
       " 'https://online.raiffeisen.ru/login/tariff',\n",
       " 'https://online.raiffeisen.ru/login/qa',\n",
       " 'https://online.raiffeisen.ru/demo/',\n",
       " 'https://online.raiffeisen.ru/login/main',\n",
       " 'tel:+74957755203',\n",
       " 'tel:88007000072',\n",
       " 'https://online.raiffeisen.ru/login/connect',\n",
       " 'https://online.raiffeisen.ru/login/restore',\n",
       " 'https://www.raiffeisen.ru/retail/remote_service/connect/?active_tab=tab-4',\n",
       " 'https://apps.apple.com/ru/app/%D1%80%D0%B0%D0%B9%D1%84%D1%84%D0%B0%D0%B9%D0%B7%D0%B5%D0%BD-%D0%BE%D0%BD%D0%BB%D0%B0%D0%B9%D0%BD-%D0%B1%D0%B0%D0%BD%D0%BA-%D1%80%D0%BE%D1%81%D1%81%D0%B8%D1%8F/id557857165',\n",
       " 'https://play.google.com/store/apps/details?id=ru.raiffeisennews&hl=ru',\n",
       " 'https://appgallery.cloud.huawei.com/marketshare/app/C101231337?locale=ru_RU&source=appshare&subsource=C101231337',\n",
       " 'https://www.raiffeisen.ru/retail/remote_service/transfer/',\n",
       " 'https://www.raiffeisen.ru/retail/remote_service/transfer/',\n",
       " 'https://apps.apple.com/ru/app/%D1%80%D0%B0%D0%B9%D1%84%D1%84%D0%B0%D0%B9%D0%B7%D0%B5%D0%BD-%D0%BE%D0%BD%D0%BB%D0%B0%D0%B9%D0%BD-%D0%B1%D0%B0%D0%BD%D0%BA-%D1%80%D0%BE%D1%81%D1%81%D0%B8%D1%8F/id557857165',\n",
       " 'https://play.google.com/store/apps/details?id=ru.raiffeisennews&hl=ru',\n",
       " 'https://appgallery.cloud.huawei.com/marketshare/app/C101231337?locale=ru_RU&source=appshare&subsource=C101231337',\n",
       " 'https://apps.apple.com/ru/app/%D1%80%D0%B0%D0%B9%D1%84%D1%84%D0%B0%D0%B9%D0%B7%D0%B5%D0%BD-%D0%BE%D0%BD%D0%BB%D0%B0%D0%B9%D0%BD-%D0%B1%D0%B0%D0%BD%D0%BA-%D1%80%D0%BE%D1%81%D1%81%D0%B8%D1%8F/id557857165',\n",
       " 'https://play.google.com/store/apps/details?id=ru.raiffeisennews&hl=ru',\n",
       " 'https://twitter.com/Raiffeisen_Ru',\n",
       " 'https://www.facebook.com/raiffeisenbankrus',\n",
       " 'https://vk.com/raiffeisenbankrus']"
      ]
     },
     "execution_count": 688,
     "metadata": {},
     "output_type": "execute_result"
    }
   ],
   "source": [
    "[elem[\"href\"] for elem in soup.find_all(\"a\")]"
   ]
  },
  {
   "cell_type": "code",
   "execution_count": 916,
   "id": "dea1e5fe-d44f-4309-9008-1ffb293d69f9",
   "metadata": {},
   "outputs": [],
   "source": [
    "class Elem: \n",
    "    def __eq__(self, other):\n",
    "        return isinstance(self, other.__class__) or isinstance(other, self.__class__)"
   ]
  },
  {
   "cell_type": "code",
   "execution_count": 917,
   "id": "35ab0c69-7ad5-47b7-ba1f-1182e3fb3b33",
   "metadata": {},
   "outputs": [],
   "source": [
    "class TextElem(Elem):\n",
    "    def __init__(self, tag: Tag):\n",
    "        self.category = \"text\"\n",
    "        self.tag = tag\n",
    "        \n",
    "        self.text = tag.string\n",
    "        self.text_eq = \"\".join([line.strip() for line in self.text.split()])\n",
    "        \n",
    "    def __eq__(self, other):\n",
    "        if not super().__eq__(other):\n",
    "            return False\n",
    "#         print(\"eq of texts\", self)\n",
    "#         print(\"other\", other)\n",
    "#         print(self.text == other.text)\n",
    "        return self.text_eq == other.text_eq\n",
    "    \n",
    "    def __repr__(self):\n",
    "        return f\"TextElem(text: {self.text})\""
   ]
  },
  {
   "cell_type": "code",
   "execution_count": 918,
   "id": "eaa36111-8f78-4137-84b4-d1a5b7046c14",
   "metadata": {},
   "outputs": [],
   "source": [
    "class ImgElem(Elem):\n",
    "    def __init__(self, tag: Tag):\n",
    "        self.category = \"image\"\n",
    "#         print(\"create img elem\", tag)\n",
    "        self.tag = tag\n",
    "        if self.tag.has_attr(\"class\"):\n",
    "            self.tag_class = self.tag[\"class\"]\n",
    "        else:\n",
    "            self.tag_class = None\n",
    "        \n",
    "        self.is_picture = tag.name in [\"svg\", \"canvas\"]\n",
    "        self.url = None\n",
    "        if not self.is_picture:\n",
    "            self.url = tag[\"style\"][tag[\"style\"].find(\"url(\") + 5: -3]\n",
    "            \n",
    "    def __repr__(self):\n",
    "        return f\"ImgElem(is_picture: {self.is_picture}, url: {self.url}, class: {self.tag_class})\"\n",
    "            \n",
    "    def __eq__(self, other):\n",
    "        if not super().__eq__(other):\n",
    "            return False\n",
    "        if self.is_picture:\n",
    "            if self.tag.has_attr(\"class\") and other.tag.has_attr(\"class\"):\n",
    "                return self.tag[\"class\"] == other.tag[\"class\"]\n",
    "            else:\n",
    "                return True\n",
    "#                 # both don't have classes\n",
    "#                 return (\"class\" not in self.tag) and (\"class\" not in other.tag)\n",
    "                \n",
    "        else:\n",
    "            return self.url == other.url"
   ]
  },
  {
   "cell_type": "code",
   "execution_count": 919,
   "id": "98031b25-7a6e-495c-88b9-a41f5146ea4b",
   "metadata": {},
   "outputs": [],
   "source": [
    "class ButtonElem(Elem):\n",
    "    def __init__(self, tag: Tag):\n",
    "        self.category = \"button\"\n",
    "        self.tag = tag\n",
    "        \n",
    "        self.action = None\n",
    "        \n",
    "        if self.tag.has_attr(\"href\"):\n",
    "            self.href = self.tag[\"href\"]\n",
    "        else:\n",
    "            self.href = None\n",
    "            \n",
    "        if self.tag.name == \"button\":\n",
    "            self.action = self.tag.text.strip()\n",
    "        else:\n",
    "#             print(\"beb\", tag)\n",
    "            if self.tag.has_attr(\"onclick\"):\n",
    "                self.action = self.tag[\"onclick\"]\n",
    "            else:\n",
    "                self.action = self.tag[\"href\"]\n",
    "                \n",
    "    def __eq__(self, other):\n",
    "        if not super().__eq__(other):\n",
    "            return False\n",
    "#         print(\"Compare\", self.action, other.action)\n",
    "        return self.action == other.action\n",
    "    \n",
    "    def __repr__(self):\n",
    "        return f\"ButtonElem(action: {self.action})\""
   ]
  },
  {
   "cell_type": "code",
   "execution_count": 920,
   "id": "b05b384a-05bb-445e-9dbb-b2574fde1097",
   "metadata": {},
   "outputs": [],
   "source": [
    "class InputElem(Elem):\n",
    "    def __init__(self, tag: Tag):\n",
    "        self.category = \"input\"\n",
    "        self.tag = tag\n",
    "        self.placeholder = self.tag[\"placeholder\"] if self.tag.has_attr(\"placeholder\") else None\n",
    "        \n",
    "    def __eq__(self, other):\n",
    "        if not super().__eq__(other):\n",
    "            return False\n",
    "        return self.placeholder == other.placeholder or (self.placeholder is None and other.placeholder is None)\n",
    "    \n",
    "    def __repr__(self):\n",
    "        return f\"InputElem(placeholder: {self.placeholder})\""
   ]
  },
  {
   "cell_type": "code",
   "execution_count": 921,
   "id": "6e285b32-8de0-41cb-b4f9-aee8b628cb58",
   "metadata": {},
   "outputs": [],
   "source": [
    "def maybe_create_obj(tag: Tag):\n",
    "    \n",
    "    if not isinstance(tag, Tag):\n",
    "        return\n",
    "    is_text = tag.name in text_tags and tag.string\n",
    "    if is_text:\n",
    "        return TextElem(tag)\n",
    "    \n",
    "    is_img = False\n",
    "    try:\n",
    "        is_img = \"background-image\" in tag[\"style\"]\n",
    "    except:\n",
    "        pass\n",
    "    is_img = is_img or tag.name in [\"svg\", \"canvas\"]\n",
    "    \n",
    "    if is_img:\n",
    "        return ImgElem(tag)\n",
    "        \n",
    "    is_button = tag.name == \"button\"\n",
    "    if not is_button:\n",
    "        if tag.has_attr(\"href\") and tag.name not in [\"link\"]:\n",
    "            is_button = is_button or tag[\"href\"] is not None\n",
    "        if tag.has_attr(\"onclick\"):\n",
    "            is_button = is_button or tag[\"onclick\"] is not None\n",
    "    if is_button:\n",
    "#         print(\"button\", tag)\n",
    "        return ButtonElem(tag)\n",
    "    \n",
    "    is_input = tag.name == \"input\"\n",
    "    if is_input:\n",
    "        return InputElem(tag)\n",
    "\n",
    "def soup_dfs(tags: List[Tag], valuable_elements):\n",
    "    for tag in tags:\n",
    "        obj = maybe_create_obj(tag)\n",
    "        if obj is not None:\n",
    "            valuable_elements.append(obj)\n",
    "                    \n",
    "        if hasattr(tag, \"children\"):\n",
    "            soup_dfs(list(tag.children), valuable_elements)"
   ]
  },
  {
   "cell_type": "code",
   "execution_count": 922,
   "id": "fcc9c625-3ba8-460b-b842-3aaf20d0bf0b",
   "metadata": {},
   "outputs": [
    {
     "data": {
      "text/plain": [
       "['h1', 'h2', 'h3', 'h4', 'h5', 'h6', 'p', 'span', 'div']"
      ]
     },
     "execution_count": 922,
     "metadata": {},
     "output_type": "execute_result"
    }
   ],
   "source": [
    "text_tags"
   ]
  },
  {
   "cell_type": "code",
   "execution_count": null,
   "id": "3a139cee-2be0-4739-a2fd-58c7df6ab105",
   "metadata": {},
   "outputs": [],
   "source": []
  },
  {
   "cell_type": "code",
   "execution_count": 923,
   "id": "c4e5c4c5-93bd-4066-a575-851b84d57eeb",
   "metadata": {
    "tags": []
   },
   "outputs": [],
   "source": [
    "# for obj in uniq_elems:\n",
    "# #     try:\n",
    "#     print(obj)\n",
    "# #     except KeyError:\n",
    "# #         pass"
   ]
  },
  {
   "cell_type": "code",
   "execution_count": 924,
   "id": "971d9a9d-3db2-4415-9a42-45887c040c3e",
   "metadata": {},
   "outputs": [],
   "source": [
    "def get_elems_repr(pth):\n",
    "    with open(pth) as f:\n",
    "        html_content = f.read()\n",
    "    soup = BeautifulSoup(html_content, \"html.parser\")\n",
    "    \n",
    "    valuable_elements = []\n",
    "    soup_dfs(soup.children, valuable_elements)\n",
    "    \n",
    "    uniq_elems = []\n",
    "    for elem in valuable_elements:\n",
    "        if elem not in uniq_elems:\n",
    "            uniq_elems.append(elem)\n",
    "            \n",
    "    return uniq_elems\n"
   ]
  },
  {
   "cell_type": "code",
   "execution_count": 1004,
   "id": "43ad3aed-786a-4d67-a04a-60f4a4b797e9",
   "metadata": {},
   "outputs": [],
   "source": [
    "reprs = {}\n",
    "\n",
    "name2path = {\"alpha\": DATA_PTH + \"Интернет-банк «Альфа-Клик».html\",\n",
    "             \"sber\": DATA_PTH + \"Вход - СберБанк Онлайн.html\",\n",
    "             \"vk\": DATA_PTH + \"Sign in _ VK.html\",\n",
    "             \"raif\": DATA_PTH + \"Raiffeisen Online.html\",\n",
    "             \"mts\": DATA_PTH + \"Введите номер телефона МТС.html\"\n",
    "            }\n",
    "\n",
    "for name, path in name2path.items():\n",
    "    reprs[name] = get_elems_repr(path)"
   ]
  },
  {
   "cell_type": "code",
   "execution_count": 1005,
   "id": "3486ae70-fbfd-4c39-bf66-e7f62105fe6b",
   "metadata": {},
   "outputs": [],
   "source": [
    "mob_name2path = {\"alpha_mob\": DATA_PTH + \"alpha_mobile.html\",\n",
    "                  \"sber_mob\": DATA_PTH + \"sber_mobile.html\",\n",
    "                  \"vk_mob\": DATA_PTH + \"vk_mobile.html\",\n",
    "                  \"raif_mob\": DATA_PTH + \"raif_mobile.html\",\n",
    "                  \"mts_mob\": DATA_PTH + \"mts_mobile.html\"\n",
    "                 }\n",
    "\n",
    "for name, path in mob_name2path.items():\n",
    "    reprs[name] = get_elems_repr(path)"
   ]
  },
  {
   "cell_type": "markdown",
   "id": "54379309-bac7-4c61-9582-ad071a24022b",
   "metadata": {},
   "source": [
    "## Metrics of similarity"
   ]
  },
  {
   "cell_type": "code",
   "execution_count": 1006,
   "id": "69981791-8d9b-4fa1-adb7-2786ae467534",
   "metadata": {},
   "outputs": [],
   "source": [
    "def iou(lst1, lst2):\n",
    "    intersected = 0\n",
    "    \n",
    "    for elem in lst1:\n",
    "        if elem in lst2:\n",
    "            intersected += 1\n",
    "            \n",
    "    return intersected / (len(lst1) + len(lst2) - intersected)"
   ]
  },
  {
   "cell_type": "code",
   "execution_count": 1007,
   "id": "b764abdb-a447-47d4-9b97-4a1a919be920",
   "metadata": {},
   "outputs": [
    {
     "data": {
      "text/plain": [
       "0.9491525423728814"
      ]
     },
     "execution_count": 1007,
     "metadata": {},
     "output_type": "execute_result"
    }
   ],
   "source": [
    "iou(reprs[\"sber\"], reprs[\"sber_mob\"])"
   ]
  },
  {
   "cell_type": "code",
   "execution_count": 1008,
   "id": "669d3ccb-6956-4ba7-9493-aede055f75d5",
   "metadata": {},
   "outputs": [],
   "source": [
    "def get_hrefs(elems: List[Elem]):\n",
    "    hrefs = []\n",
    "    for elem in elems:\n",
    "        if hasattr(elem, \"href\"):\n",
    "            if elem.href is not None:\n",
    "                hrefs.append(elem.href)\n",
    "    return hrefs"
   ]
  },
  {
   "cell_type": "code",
   "execution_count": 1009,
   "id": "4db29f75-7380-482e-a953-ceba7252e19d",
   "metadata": {},
   "outputs": [],
   "source": [
    "def hrefs_iou(repr1: List[Elem], repr2: List[Elem]):\n",
    "    return iou(get_hrefs(repr1), get_hrefs(repr2))"
   ]
  },
  {
   "cell_type": "code",
   "execution_count": 1017,
   "id": "efa17e38-8d66-4a0e-b719-a9880c8ddc07",
   "metadata": {},
   "outputs": [],
   "source": [
    "def intersection_inversions_index(repr1: List[Elem], repr2: List[Elem]):\n",
    "    inter_idxs1, inter_idxs2 = [], []\n",
    "    \n",
    "    for idx1, elem in enumerate(repr1):\n",
    "        if elem in repr2:\n",
    "            inter_idxs1.append(idx1)\n",
    "            inter_idxs2.append(repr2.index(elem))\n",
    "            \n",
    "#     print(inter_idxs1, inter_idxs2)\n",
    "    # cnt inversions\n",
    "    nb_invs = 0\n",
    "    nb_pairs = 0\n",
    "    for idx, position in enumerate(inter_idxs1):\n",
    "        for position2 in inter_idxs2[idx + 1:]:\n",
    "            if position2 < position:\n",
    "                nb_invs += 1\n",
    "            nb_pairs += 1\n",
    "    \n",
    "    if nb_pairs == 0:\n",
    "        return 1 # biggest value because have no any order between intersecting orders\n",
    "                \n",
    "    return nb_invs / nb_pairs\n",
    "        "
   ]
  },
  {
   "cell_type": "code",
   "execution_count": 1018,
   "id": "8327bb3c-c9dc-465f-ae1a-59d2de00135a",
   "metadata": {},
   "outputs": [],
   "source": [
    "from collections import defaultdict\n",
    "\n",
    "def component_types_mismatch(repr1, repr2):\n",
    "    categ2cnt = defaultdict(int)\n",
    "    \n",
    "    for elem in repr1:\n",
    "        categ2cnt[elem.category] += 1\n",
    "    for elem in repr2:\n",
    "        categ2cnt[elem.category] -= 1\n",
    "        \n",
    "    return sum([abs(val) for val in categ2cnt.values()]) / (len(repr1) + len(repr2))"
   ]
  },
  {
   "cell_type": "code",
   "execution_count": 1019,
   "id": "d2b848d6-a78b-414c-ab21-e9827b6cc8a6",
   "metadata": {},
   "outputs": [],
   "source": [
    "from collections import Counter\n",
    "\n",
    "def words_similarity(repr1, repr2):\n",
    "    texts1 = []\n",
    "    for elem in repr1:\n",
    "        if elem.category == \"text\":\n",
    "            texts1.append(elem.text)\n",
    "    texts2 = []\n",
    "    for elem in repr2:\n",
    "        if elem.category == \"text\":\n",
    "            texts2.append(elem.text)\n",
    "    \n",
    "    cnter1 = Counter(\" \".join(texts1).split())\n",
    "    cnter2 = Counter(\" \".join(texts2).split())\n",
    "    sum1 = sum(cnter1.values())\n",
    "    sum2 = sum(cnter2.values())\n",
    "    \n",
    "    # normalization\n",
    "    for key, value in cnter1.items():\n",
    "        cnter1[key] = value / sum1\n",
    "    for key, value in cnter2.items():\n",
    "        cnter2[key] = value / sum2\n",
    "    \n",
    "#     print(cnter1, \"\\n\", cnter2)\n",
    "    \n",
    "    return sum((cnter1 & cnter2).values()) / sum((cnter1 | cnter2).values())"
   ]
  },
  {
   "cell_type": "code",
   "execution_count": 1013,
   "id": "d07573c0-68f9-4364-b250-1ee3e5727c54",
   "metadata": {},
   "outputs": [
    {
     "data": {
      "text/plain": [
       "0.95"
      ]
     },
     "execution_count": 1013,
     "metadata": {},
     "output_type": "execute_result"
    }
   ],
   "source": [
    "hrefs_iou(reprs[\"raif\"], reprs[\"raif_mob\"])"
   ]
  },
  {
   "cell_type": "code",
   "execution_count": 1014,
   "id": "910afd64-7ff9-4950-bf93-2bfa35bb67a2",
   "metadata": {},
   "outputs": [
    {
     "data": {
      "text/plain": [
       "1"
      ]
     },
     "execution_count": 1014,
     "metadata": {},
     "output_type": "execute_result"
    }
   ],
   "source": [
    "intersection_inversions_index(reprs[\"sber\"], reprs[\"raif\"])"
   ]
  },
  {
   "cell_type": "code",
   "execution_count": 1015,
   "id": "05efec12-9cf0-44f9-b574-e20c566f8aec",
   "metadata": {},
   "outputs": [
    {
     "data": {
      "text/plain": [
       "0.36"
      ]
     },
     "execution_count": 1015,
     "metadata": {},
     "output_type": "execute_result"
    }
   ],
   "source": [
    "component_types_mismatch(reprs[\"alpha\"], reprs[\"vk\"])"
   ]
  },
  {
   "cell_type": "code",
   "execution_count": 1016,
   "id": "c5b0dedd-2650-415f-9274-90b9d1bebc71",
   "metadata": {},
   "outputs": [
    {
     "data": {
      "text/plain": [
       "0.9809531687847001"
      ]
     },
     "execution_count": 1016,
     "metadata": {},
     "output_type": "execute_result"
    }
   ],
   "source": [
    "words_similarity(reprs[\"raif\"], reprs[\"raif_mob\"])"
   ]
  },
  {
   "cell_type": "code",
   "execution_count": null,
   "id": "2a142db6-6830-4865-8c44-01631b17bd43",
   "metadata": {},
   "outputs": [],
   "source": []
  },
  {
   "cell_type": "markdown",
   "id": "92cccce1-42e3-40ba-9aa0-ac212672e599",
   "metadata": {},
   "source": [
    "## Distinguish websites (fit linear regression)"
   ]
  },
  {
   "cell_type": "code",
   "execution_count": 999,
   "id": "ca391162-896c-4bd7-b843-3aec6a6f4f53",
   "metadata": {},
   "outputs": [],
   "source": [
    "# calc metrics and labels for pairs\n",
    "# fit linear regression, save weights, use in script"
   ]
  },
  {
   "cell_type": "code",
   "execution_count": 1023,
   "id": "8f7c5e37-3fb6-458e-9a7c-e8eb17b9db3c",
   "metadata": {},
   "outputs": [],
   "source": [
    "samples = []\n",
    "\n",
    "for name1, repr1 in reprs.items():\n",
    "    for name2, repr2 in reprs.items():\n",
    "        if name1 == name2:\n",
    "            continue\n",
    "        x = [\n",
    "            iou(repr1, repr2),\n",
    "            hrefs_iou(repr1, repr2),\n",
    "            intersection_inversions_index(repr1, repr2),\n",
    "            component_types_mismatch(repr1, repr2),\n",
    "            words_similarity(repr1, repr2)\n",
    "        ]\n",
    "        y = name1 == name2 + \"_mob\" or name2 == name1 + \"_mob\"\n",
    "        samples.append((x, y))"
   ]
  },
  {
   "cell_type": "code",
   "execution_count": 1025,
   "id": "69c068f6-c0b8-4e95-855b-7003653cb1e7",
   "metadata": {},
   "outputs": [],
   "source": [
    "x, y = zip(*samples)"
   ]
  },
  {
   "cell_type": "code",
   "execution_count": 1029,
   "id": "45afc9e9-0154-4b66-b9e4-0bca7bcd0041",
   "metadata": {},
   "outputs": [],
   "source": [
    "from sklearn.linear_model import LinearRegression"
   ]
  },
  {
   "cell_type": "code",
   "execution_count": 1036,
   "id": "95caa68b-6469-404c-b269-2740e80bfc18",
   "metadata": {},
   "outputs": [],
   "source": [
    "linreg = LinearRegression().fit(x, y)"
   ]
  },
  {
   "cell_type": "code",
   "execution_count": 1039,
   "id": "cda705ae-c7c0-48c8-954e-e09b9a7e6259",
   "metadata": {},
   "outputs": [
    {
     "data": {
      "text/plain": [
       "(array([ 1.23886136, -0.32735346,  0.00480269, -0.26022503,  0.22453727]),\n",
       " 0.10448863512832088)"
      ]
     },
     "execution_count": 1039,
     "metadata": {},
     "output_type": "execute_result"
    }
   ],
   "source": [
    "linreg.coef_, linreg.intercept_"
   ]
  },
  {
   "cell_type": "code",
   "execution_count": 1045,
   "id": "421fe545-e8c4-4340-bf07-9484c25956d5",
   "metadata": {},
   "outputs": [],
   "source": [
    "import json\n",
    "weights = dict(zip((\"iou\", \"hrefs_iou\", \"inversions_index\", \"comp_mismatch\", \"words\"), linreg.coef_))\n",
    "\n",
    "weights[\"bias\"] = linreg.intercept_\n",
    "\n",
    "with open(\"../fitted_lr_weights.json\", \"w\") as f:\n",
    "    json.dump(weights, f)"
   ]
  },
  {
   "cell_type": "markdown",
   "id": "21a127fc-d9c7-49bd-83d7-5239f1db7230",
   "metadata": {},
   "source": [
    "## Generating new html files"
   ]
  },
  {
   "cell_type": "code",
   "execution_count": 1073,
   "id": "b37abd7c-4a84-4f9f-aceb-5aa8273c2cbe",
   "metadata": {},
   "outputs": [],
   "source": [
    "with open(DATA_PTH + \"Вход - СберБанк Онлайн.html\") as f:\n",
    "    html_content = f.read()\n",
    "soup = BeautifulSoup(html_content, \"html.parser\")\n",
    "\n",
    "valuable_elements = []\n",
    "soup_dfs(soup.children, valuable_elements)\n",
    "\n",
    "uniq_elems = []\n",
    "for elem in valuable_elements:\n",
    "    if elem not in uniq_elems:\n",
    "        uniq_elems.append(elem)\n"
   ]
  },
  {
   "cell_type": "code",
   "execution_count": 1074,
   "id": "cee79105-1ece-4c90-8fc3-88bdcf4a010c",
   "metadata": {},
   "outputs": [],
   "source": [
    "parent = uniq_elems[0].tag.parent"
   ]
  },
  {
   "cell_type": "code",
   "execution_count": 1075,
   "id": "09c914ef-b4ac-410a-a0f2-30030687c694",
   "metadata": {},
   "outputs": [],
   "source": [
    "parent.append(html_rep[0].tag)"
   ]
  },
  {
   "cell_type": "code",
   "execution_count": 1076,
   "id": "074e85f9-e370-4c0e-b710-412cddfd9d26",
   "metadata": {},
   "outputs": [],
   "source": [
    "with open(\"../data/changed_html.html\", \"w\") as f:\n",
    "    f.write(str(soup))"
   ]
  },
  {
   "cell_type": "code",
   "execution_count": null,
   "id": "5a399ed1-ad1c-48b7-9b05-0e98af2d0425",
   "metadata": {},
   "outputs": [],
   "source": []
  }
 ],
 "metadata": {
  "kernelspec": {
   "display_name": "Python 3 (ipykernel)",
   "language": "python",
   "name": "python3"
  },
  "language_info": {
   "codemirror_mode": {
    "name": "ipython",
    "version": 3
   },
   "file_extension": ".py",
   "mimetype": "text/x-python",
   "name": "python",
   "nbconvert_exporter": "python",
   "pygments_lexer": "ipython3",
   "version": "3.8.10"
  }
 },
 "nbformat": 4,
 "nbformat_minor": 5
}
