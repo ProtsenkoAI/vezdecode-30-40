{
 "cells": [
  {
   "cell_type": "code",
   "execution_count": 254,
   "id": "ed4546a7-97c6-429a-90b6-40d1436ccd45",
   "metadata": {},
   "outputs": [
    {
     "name": "stdout",
     "output_type": "stream",
     "text": [
      "Requirement already satisfied: tinycss in /home/arseny/.local/share/virtualenvs/vezdecode-30-40-50-webvec-tg1FAYMA/lib/python3.8/site-packages (0.4)\n",
      "Collecting lxml\n",
      "  Downloading lxml-4.6.3-cp38-cp38-manylinux2014_x86_64.whl (6.8 MB)\n",
      "\u001b[K     |████████████████████████████████| 6.8 MB 13.2 MB/s eta 0:00:01\n",
      "\u001b[?25hCollecting cssselect\n",
      "  Downloading cssselect-1.1.0-py2.py3-none-any.whl (16 kB)\n",
      "Installing collected packages: lxml, cssselect\n",
      "Successfully installed cssselect-1.1.0 lxml-4.6.3\n"
     ]
    }
   ],
   "source": [
    "!pip install tinycss lxml cssselect"
   ]
  },
  {
   "cell_type": "code",
   "execution_count": 42,
   "id": "1a03496a-6616-4caa-ba08-48712921e298",
   "metadata": {},
   "outputs": [],
   "source": [
    "from bs4 import BeautifulSoup, Tag\n",
    "from typing import List\n",
    "from collections import defaultdict"
   ]
  },
  {
   "cell_type": "code",
   "execution_count": 2,
   "id": "c8108c3d-ae3a-45b1-86d3-e8b01d877856",
   "metadata": {},
   "outputs": [],
   "source": [
    "DATA_PTH = \"../data/\""
   ]
  },
  {
   "cell_type": "code",
   "execution_count": 419,
   "id": "9daeef70-9810-4dbd-a1e3-635aa8e268df",
   "metadata": {},
   "outputs": [],
   "source": [
    "with open(DATA_PTH + \"Raiffeisen Online.html\") as f:\n",
    "    html_content = f.read()"
   ]
  },
  {
   "cell_type": "code",
   "execution_count": 420,
   "id": "cf597aae-d11a-4f31-8464-17f63700a221",
   "metadata": {},
   "outputs": [],
   "source": [
    "soup = BeautifulSoup(html_content, \"html.parser\")"
   ]
  },
  {
   "cell_type": "code",
   "execution_count": null,
   "id": "2d768b57-3e14-4a50-af42-91be96c4426b",
   "metadata": {},
   "outputs": [],
   "source": []
  },
  {
   "cell_type": "code",
   "execution_count": 421,
   "id": "1b443842-5fb3-4c79-b502-1003636d75ad",
   "metadata": {},
   "outputs": [
    {
     "name": "stdout",
     "output_type": "stream",
     "text": [
      "['Войти в онлайн-банк', 'Мобильный банк на каждый день']\n",
      "['Возможности', 'Возможности', 'Подключить мобильный банк']\n",
      "['Все виды переводов', 'Управление продуктами', 'Оплата услуг', 'Онлайн сервисы', 'Все виды переводов', 'Управление продуктами', 'Оплата услуг', 'Онлайн сервисы']\n"
     ]
    }
   ],
   "source": [
    "header_tag_names = [f\"h{header_type}\" for header_type in range(1, 6 + 1)]\n",
    "text_tags = header_tag_names + [\"div\"]\n",
    "\n",
    "for header_type in range(1, 6 + 1):\n",
    "    tags = soup.find_all(f\"h{header_type}\")\n",
    "    if tags:\n",
    "        print([tag.text for tag in tags])"
   ]
  },
  {
   "cell_type": "code",
   "execution_count": 443,
   "id": "70f959a4-c532-432d-8c2c-5f4e2f0eee03",
   "metadata": {},
   "outputs": [
    {
     "data": {
      "text/plain": [
       "'Логин'"
      ]
     },
     "execution_count": 443,
     "metadata": {},
     "output_type": "execute_result"
    }
   ],
   "source": [
    "soup.find_all(\"input\")[0][\"placeholder\"]"
   ]
  },
  {
   "cell_type": "code",
   "execution_count": 390,
   "id": "eb0b3431-16a1-47b4-ac12-a92e01420c69",
   "metadata": {},
   "outputs": [
    {
     "data": {
      "text/plain": [
       "'https://cms-res.online.sberbank.ru/PRELOGINBANNERS/images/default/slide1.jpg'"
      ]
     },
     "execution_count": 390,
     "metadata": {},
     "output_type": "execute_result"
    }
   ],
   "source": [
    "style[style.find(\"url(\") + 5: -3]"
   ]
  },
  {
   "cell_type": "code",
   "execution_count": 279,
   "id": "afd68c3f-d353-4426-9975-d30bbb80c8ec",
   "metadata": {},
   "outputs": [
    {
     "name": "stdout",
     "output_type": "stream",
     "text": [
      "None\n",
      "None\n",
      "None\n",
      "None\n",
      "html\n"
     ]
    }
   ],
   "source": [
    "for child in soup:\n",
    "    if hasattr(child, \"name\"):\n",
    "        print(child.name)"
   ]
  },
  {
   "cell_type": "code",
   "execution_count": 497,
   "id": "b4e399b7-894c-4609-b20a-f1ac92328b36",
   "metadata": {},
   "outputs": [],
   "source": [
    "from uuid import uuid4"
   ]
  },
  {
   "cell_type": "code",
   "execution_count": 519,
   "id": "dea1e5fe-d44f-4309-9008-1ffb293d69f9",
   "metadata": {},
   "outputs": [],
   "source": [
    "class Elem:\n",
    "    def __eq__(self, other):\n",
    "        return isinstance(self, other.__class__) or isinstance(other, self.__class__)"
   ]
  },
  {
   "cell_type": "code",
   "execution_count": 627,
   "id": "35ab0c69-7ad5-47b7-ba1f-1182e3fb3b33",
   "metadata": {},
   "outputs": [],
   "source": [
    "class TextElem(Elem):\n",
    "    def __init__(self, tag: Tag):\n",
    "        self.tag = tag\n",
    "        \n",
    "        self.text = tag.string\n",
    "        self.text_eq = \"\".join([line.strip() for line in self.text.split()])\n",
    "        \n",
    "    def __eq__(self, other):\n",
    "        if not super().__eq__(other):\n",
    "            return False\n",
    "#         print(\"eq of texts\", self)\n",
    "#         print(\"other\", other)\n",
    "#         print(self.text == other.text)\n",
    "        return self.text_eq == other.text_eq\n",
    "    \n",
    "    def __repr__(self):\n",
    "        return f\"TextElem(text: {self.text})\""
   ]
  },
  {
   "cell_type": "code",
   "execution_count": 637,
   "id": "eaa36111-8f78-4137-84b4-d1a5b7046c14",
   "metadata": {},
   "outputs": [],
   "source": [
    "class ImgElem(Elem):\n",
    "    def __init__(self, tag: Tag):\n",
    "#         print(\"create img elem\", tag)\n",
    "        self.tag = tag\n",
    "        if \"class\" in self.tag:\n",
    "            self.tag_class = self.tag[\"class\"]\n",
    "        else:\n",
    "            self.tag_class = None\n",
    "        \n",
    "        self.is_picture = tag.name in [\"svg\", \"canvas\"]\n",
    "        self.url = None\n",
    "        if not self.is_picture:\n",
    "            self.url = tag[\"style\"][tag[\"style\"].find(\"url(\") + 5: -3]\n",
    "            \n",
    "    def __repr__(self):\n",
    "        return f\"ImgElem(is_picture: {self.is_picture}, url: {self.url}, class: {self.tag_class})\"\n",
    "            \n",
    "    def __eq__(self, other):\n",
    "        if not super().__eq__(other):\n",
    "            return False\n",
    "        if self.is_picture:\n",
    "            if \"class\" in self.tag and \"class\" in other.tag:\n",
    "                return self.tag[\"class\"] == other.tag[\"class\"]\n",
    "            else:\n",
    "                return True\n",
    "#                 # both don't have classes\n",
    "#                 return (\"class\" not in self.tag) and (\"class\" not in other.tag)\n",
    "                \n",
    "        else:\n",
    "            return self.url == other.url"
   ]
  },
  {
   "cell_type": "code",
   "execution_count": 638,
   "id": "98031b25-7a6e-495c-88b9-a41f5146ea4b",
   "metadata": {},
   "outputs": [],
   "source": [
    "class ButtonElem(Elem):\n",
    "    def __init__(self, tag: Tag):\n",
    "        self.tag = tag\n",
    "        \n",
    "        self.action = None\n",
    "        if self.tag.name == \"button\":\n",
    "            self.action = self.tag[\"class\"]\n",
    "        else:\n",
    "            if self.tag.href is not None:\n",
    "                self.action = self.tag.href\n",
    "            else:\n",
    "                self.action = self.tag.onclick\n",
    "                \n",
    "    def __eq__(self, other):\n",
    "        if not super().__eq__(other):\n",
    "            return False\n",
    "        return self.action == other.action\n",
    "    \n",
    "    def __repr__(self):\n",
    "        return f\"ButtonElem(action: {self.action})\""
   ]
  },
  {
   "cell_type": "code",
   "execution_count": 639,
   "id": "b05b384a-05bb-445e-9dbb-b2574fde1097",
   "metadata": {},
   "outputs": [],
   "source": [
    "class InputElem(Elem):\n",
    "    def __init__(self, tag: Tag):\n",
    "        self.tag = tag\n",
    "        self.placeholder = self.tag[\"placeholder\"]\n",
    "        \n",
    "    def __eq__(self, other):\n",
    "        if not super().__eq__(other):\n",
    "            return False\n",
    "        return self.placeholder == other.placeholder\n",
    "    \n",
    "    def __repr__(self):\n",
    "        return f\"InputElem(placeholder: {self.placeholder})\""
   ]
  },
  {
   "cell_type": "code",
   "execution_count": 640,
   "id": "6e285b32-8de0-41cb-b4f9-aee8b628cb58",
   "metadata": {},
   "outputs": [],
   "source": [
    "valuable_elements = []\n",
    "\n",
    "def maybe_create_obj(tag: Tag):\n",
    "    is_text = tag.name in header_tag_names + [\"p\", \"span\", \"div\"] and tag.string\n",
    "    if is_text:\n",
    "        return TextElem(tag)\n",
    "    \n",
    "    is_img = False\n",
    "    try:\n",
    "        is_img = \"background-image\" in tag[\"style\"]\n",
    "    except:\n",
    "        pass\n",
    "    is_img = is_img or tag.name in [\"svg\", \"canvas\"]\n",
    "    \n",
    "    if is_img:\n",
    "        return ImgElem(tag)\n",
    "        \n",
    "    is_button = tag.name == \"button\"\n",
    "    if not is_button:\n",
    "        if hasattr(tag, \"href\"):\n",
    "            is_button = is_button or tag.href is not None\n",
    "        if hasattr(tag, \"onclick\"):\n",
    "            is_button = is_button or tag.onclick is not None\n",
    "    if is_button:\n",
    "        return ButtonElem(tag)\n",
    "    is_input = tag.name == \"input\"\n",
    "    if is_input:\n",
    "        return InputElem(tag)\n",
    "\n",
    "def soup_dfs(tags: List[Tag]):\n",
    "    for tag in tags:\n",
    "        obj = maybe_create_obj(tag)\n",
    "        if obj is not None:\n",
    "            valuable_elements.append(obj)\n",
    "                    \n",
    "        if hasattr(tag, \"children\"):\n",
    "            soup_dfs(list(tag.children))"
   ]
  },
  {
   "cell_type": "code",
   "execution_count": 641,
   "id": "fcc9c625-3ba8-460b-b842-3aaf20d0bf0b",
   "metadata": {},
   "outputs": [],
   "source": [
    "soup_dfs(soup.children)"
   ]
  },
  {
   "cell_type": "code",
   "execution_count": 642,
   "id": "3a139cee-2be0-4739-a2fd-58c7df6ab105",
   "metadata": {},
   "outputs": [],
   "source": [
    "uniq_elems = []\n",
    "for elem in valuable_elements:\n",
    "    if elem not in uniq_elems:\n",
    "        uniq_elems.append(elem)"
   ]
  },
  {
   "cell_type": "code",
   "execution_count": 643,
   "id": "c4e5c4c5-93bd-4066-a575-851b84d57eeb",
   "metadata": {},
   "outputs": [
    {
     "name": "stdout",
     "output_type": "stream",
     "text": [
      "TextElem(text: Обновите версию Вашего браузера)\n",
      "TextElem(text: В 2021 году мы перестанем поддерживать устаревшие версии браузеров (например, Internet Explorer 9 и старше). Мы делаем это для безопасности и удобства клиентов.)\n",
      "TextElem(text: Обновите, пожалуйста, Ваш браузер до последней версии или установите один из современных браузеров, чтобы продолжать пользоваться интернет-банком Райффайзен-Онлайн.)\n",
      "TextElem(text: Браузер не поддерживает JavaScript)\n",
      "TextElem(text: Москва)\n",
      "TextElem(text: +7 (495) 775-52-03)\n",
      "TextElem(text: для звонков из других регионов России)\n",
      "TextElem(text: 8 (800) 700-00-72)\n",
      "ImgElem(is_picture: True, url: None, class: None)\n",
      "ImgElem(is_picture: True, url: None, class: None)\n",
      "TextElem(text: RU)\n",
      "ImgElem(is_picture: True, url: None, class: None)\n",
      "ImgElem(is_picture: True, url: None, class: None)\n",
      "TextElem(text: RU)\n",
      "ImgElem(is_picture: True, url: None, class: None)\n",
      "TextElem(text: EN)\n",
      "ImgElem(is_picture: True, url: None, class: None)\n",
      "ImgElem(is_picture: True, url: None, class: None)\n",
      "ImgElem(is_picture: True, url: None, class: None)\n",
      "TextElem(text: Москва)\n",
      "TextElem(text: для звонков из других регионов России)\n",
      "TextElem(text: Войти в онлайн-банк)\n",
      "InputElem(placeholder: Логин)\n",
      "InputElem(placeholder: Пароль)\n",
      "ButtonElem(action: ['rc-button', 'rc-button_login', 'rc-button_stretch'])\n",
      "TextElem(text: Войти)\n",
      "TextElem(text: Войти по карте )\n",
      "ImgElem(is_picture: False, url: /import/about-app/header-screen-ios.png, class: None)\n",
      "TextElem(text: Мобильный банк на каждый день)\n",
      "TextElem(text:  Установите Райффайзен-Онлайн на свой мобильный телефон и управляйте финансами где и когда угодно )\n",
      "ImgElem(is_picture: False, url: /import/promo-market/qr-code/app-landing.svg, class: None)\n",
      "TextElem(text: Отсканируйте QR-код, чтобы скачать приложение)\n",
      "ImgElem(is_picture: True, url: None, class: None)\n",
      "TextElem(text: Возможности мобильного банка)\n",
      "TextElem(text: Возможности)\n",
      "TextElem(text: Совершайте переводы легко и удобно)\n",
      "TextElem(text: Контролируйте свои финансы в любое время)\n",
      "TextElem(text: Оплачивайте свои счета с комфортом в любом месте)\n",
      "TextElem(text: Используйте удобные онлайн сервисы уже сейчас без обращения в отделение банка)\n",
      "TextElem(text: Все виды переводов)\n",
      "TextElem(text: Между своими счетами, другим клиентам и в другие банки)\n",
      "TextElem(text: Бесплатное пополнение карт Райффайзенбанка с дебетовых карт других банков)\n",
      "TextElem(text: Управление продуктами)\n",
      "TextElem(text: Оформление новых карт, счетов, вкладов и страховых программ)\n",
      "TextElem(text: Частичное досрочное и полное погашение кредита)\n",
      "TextElem(text: Актуальный баланс, просмотр истории операций, возможность отправить реквизиты, смена ПИН-кода карты и блокировка – все в одном приложении)\n",
      "TextElem(text: Оплата услуг)\n",
      "TextElem(text: Оплата ЖКУ, штрафов и задолженностей по налогам без комиссии)\n",
      "TextElem(text: Оплата мобильной связи, интернета, ТВ и других услуг без комиссии)\n",
      "TextElem(text: Оплата квитанций по свободным реквизитам или QR-коду)\n",
      "TextElem(text: Онлайн сервисы)\n",
      "TextElem(text: Заказ справок и выписок по счетам и картам)\n",
      "TextElem(text: Удалённое решение любых вопросов в чате с сотрудниками банка)\n",
      "TextElem(text: Подписка на новые начисления ЖКУ, штрафов, задолженностей по налогам)\n",
      "ImgElem(is_picture: False, url: /import/about-app/slider-screen-1-ios.png, class: None)\n",
      "ImgElem(is_picture: False, url: /import/about-app/slider-screen-2-ios.png, class: None)\n",
      "ImgElem(is_picture: False, url: /import/about-app/slider-screen-3-ios.png, class: None)\n",
      "ImgElem(is_picture: False, url: /import/about-app/slider-screen-4-ios.png, class: None)\n",
      "TextElem(text: Возможности)\n",
      "TextElem(text: Легко управляйте своими финансами без обращений в банк)\n",
      "TextElem(text: Все виды переводов)\n",
      "TextElem(text: Между своими счетами, другим клиентам и в другие банки)\n",
      "TextElem(text: Бесплатное пополнение карт Райффайзенбанка с дебетовых карт других банков)\n",
      "TextElem(text: Управление продуктами)\n",
      "TextElem(text: Оформление новых карт, счетов, вкладов и страховых программ)\n",
      "TextElem(text: Частичное досрочное и полное погашение кредита)\n",
      "TextElem(text: Актуальный баланс, просмотр истории операций, возможность отправить реквизиты, смена ПИН-кода карты и блокировка – все в одном приложении)\n",
      "TextElem(text: Оплата услуг)\n",
      "TextElem(text: Оплата ЖКУ, штрафов и задолженностей по налогам без комиссии)\n",
      "TextElem(text: Оплата мобильной связи, интернета, ТВ и других услуг без комиссии)\n",
      "TextElem(text: Оплата квитанций по свободным реквизитам или QR-коду)\n",
      "TextElem(text: Онлайн сервисы)\n",
      "TextElem(text: Заказ справок и выписок по счетам и картам)\n",
      "TextElem(text: Удалённое решение любых вопросов в чате с сотрудниками банка)\n",
      "TextElem(text: Подписка на новые начисления ЖКУ, штрафов, задолженностей по налогам)\n",
      "ImgElem(is_picture: False, url: /import/about-app/extra-googlepay.svg, class: None)\n",
      "ImgElem(is_picture: False, url: /import/about-app/extra-iospay.svg, class: None)\n",
      "TextElem(text: Платежные системы)\n",
      "TextElem(text: Привязка карт к системам мобильных платежей Apple Pay и Google Pay)\n",
      "ImgElem(is_picture: False, url: /import/about-app/extra-confirm.svg, class: None)\n",
      "TextElem(text: Уведомления)\n",
      "TextElem(text: СМС и Push уведомления для контроля  ",
      "всех операций по продуктам)\n",
      "ImgElem(is_picture: False, url: /import/about-app/extra-map.svg, class: None)\n",
      "TextElem(text: Адреса)\n",
      "TextElem(text: Удобный поиск ближайших отделений и банкоматов на карте)\n",
      "TextElem(text: Подключить мобильный банк)\n",
      "TextElem(text:  Скачайте приложение и авторизуйтесь с помощью логина и пароля или карты банка. Все просто. )\n",
      "ImgElem(is_picture: False, url: /import/about-app/footer-screen-ios.png, class: None)\n",
      "TextElem(text: © 2003–2021 АО «Райффайзенбанк»)\n",
      "TextElem(text: Генеральная лицензия Банка России №3292 от 17.02.2015)\n",
      "ImgElem(is_picture: True, url: None, class: None)\n",
      "ImgElem(is_picture: True, url: None, class: None)\n",
      "ImgElem(is_picture: True, url: None, class: None)\n",
      "ImgElem(is_picture: True, url: None, class: None)\n"
     ]
    }
   ],
   "source": [
    "for obj in valuable_elements:\n",
    "#     try:\n",
    "    print(obj)\n",
    "#     except KeyError:\n",
    "#         pass"
   ]
  },
  {
   "cell_type": "code",
   "execution_count": 636,
   "id": "adea7e22-a954-42d1-a3f5-610d1c0d92c8",
   "metadata": {},
   "outputs": [
    {
     "ename": "TypeError",
     "evalue": "'TextElem' object does not support item assignment",
     "output_type": "error",
     "traceback": [
      "\u001b[0;31m---------------------------------------------------------------------------\u001b[0m",
      "\u001b[0;31mTypeError\u001b[0m                                 Traceback (most recent call last)",
      "\u001b[0;32m/tmp/ipykernel_55952/2071135364.py\u001b[0m in \u001b[0;36m<module>\u001b[0;34m\u001b[0m\n\u001b[0;32m----> 1\u001b[0;31m \u001b[0mtag\u001b[0m\u001b[0;34m[\u001b[0m\u001b[0;34m\"style\"\u001b[0m\u001b[0;34m]\u001b[0m \u001b[0;34m=\u001b[0m \u001b[0;34m\"color: red;\"\u001b[0m\u001b[0;34m\u001b[0m\u001b[0;34m\u001b[0m\u001b[0m\n\u001b[0m",
      "\u001b[0;31mTypeError\u001b[0m: 'TextElem' object does not support item assignment"
     ]
    }
   ],
   "source": [
    "tag[\"style\"] = \"color: red;\""
   ]
  },
  {
   "cell_type": "code",
   "execution_count": null,
   "id": "e41f772a-d41d-4578-932e-65e8e5678692",
   "metadata": {},
   "outputs": [],
   "source": []
  },
  {
   "cell_type": "code",
   "execution_count": null,
   "id": "971d9a9d-3db2-4415-9a42-45887c040c3e",
   "metadata": {},
   "outputs": [],
   "source": []
  }
 ],
 "metadata": {
  "kernelspec": {
   "display_name": "Python 3 (ipykernel)",
   "language": "python",
   "name": "python3"
  },
  "language_info": {
   "codemirror_mode": {
    "name": "ipython",
    "version": 3
   },
   "file_extension": ".py",
   "mimetype": "text/x-python",
   "name": "python",
   "nbconvert_exporter": "python",
   "pygments_lexer": "ipython3",
   "version": "3.8.10"
  }
 },
 "nbformat": 4,
 "nbformat_minor": 5
}
