{
 "cells": [
  {
   "cell_type": "code",
   "execution_count": 1,
   "id": "978e522d-90ee-49af-b6c5-e9ec529a00f1",
   "metadata": {},
   "outputs": [],
   "source": [
    "import sys\n",
    "sys.path.append(\"..\")"
   ]
  },
  {
   "cell_type": "code",
   "execution_count": 2,
   "id": "e7004768-771c-47ca-b281-90db7926c799",
   "metadata": {},
   "outputs": [],
   "source": [
    "import get_html_features"
   ]
  },
  {
   "cell_type": "code",
   "execution_count": 5,
   "id": "f2e711e1-d860-44c8-b894-f3a02482009d",
   "metadata": {},
   "outputs": [],
   "source": [
    "features = get_html_features.get_features(\"../data/mts_mobile.html\")"
   ]
  },
  {
   "cell_type": "code",
   "execution_count": 6,
   "id": "5d4f7744-f472-4a0a-87c6-80e4401e3fe9",
   "metadata": {},
   "outputs": [
    {
     "data": {
      "text/plain": [
       "[ButtonElem(action: https://login.mts.ru/amserver/UI/Login?client_id=LK&goto=https%3A%2F%2Flogin.mts.ru%2Famserver%2Foauth2%2Fauthorize%3Fscope%3Dprofile%2520account%2520phone%2520slaves%253Aall%2520slaves%253Aprofile%2520sub%2520email%2520user_address%26response_type%3Dcode%26client_id%3DLK%26state%3D50a505f6206340dc97531bd525716b9b%26redirect_uri%3Dhttps%253A%252F%252Flk.mts.ru%252Fauth%252Faccount%252Fcallback%252Flogin&realm=%2Fusers#scrollerAnchor),\n",
       " ButtonElem(action: Понятно),\n",
       " ImgElem(is_picture: True, url: None, class: ['spinner']),\n",
       " ImgElem(is_picture: True, url: None, class: ['mtsLogo']),\n",
       " TextElem(text: Введите номер телефона),\n",
       " TextElem(text: +7),\n",
       " InputElem(placeholder: None),\n",
       " ButtonElem(action: Далее),\n",
       " TextElem(text:  ),\n",
       " TextElem(text: © 2021 ПАО «МТС». Все права защищены.),\n",
       " ButtonElem(action: https://static.ssl.mts.ru/mts_rf/images/usloviya-edinogo-dostupa-k-servisam-MTS.html?back_link=https%3A%2F%2Flogin.mts.ru%3A443%2Famserver%2FUI%2FLogin%3Fclient_id%3DLK%26goto%3Dhttps%253A%252F%252Flogin.mts.ru%252Famserver%252Foauth2%252Fauthorize%253Fscope%253Dprofile%252520account%252520phone%252520slaves%25253Aall%252520slaves%25253Aprofile%252520sub%252520email%252520user_address%2526response_type%253Dcode%2526client_id%253DLK%2526state%253D50a505f6206340dc97531bd525716b9b%2526redirect_uri%253Dhttps%25253A%25252F%25252Flk.mts.ru%25252Fauth%25252Faccount%25252Fcallback%25252Flogin%26realm%3D%252Fusers),\n",
       " TextElem(text: условия доступа)]"
      ]
     },
     "execution_count": 6,
     "metadata": {},
     "output_type": "execute_result"
    }
   ],
   "source": [
    "features"
   ]
  },
  {
   "cell_type": "code",
   "execution_count": null,
   "id": "0e445098-907e-46ac-9726-a8627b9e5469",
   "metadata": {},
   "outputs": [],
   "source": []
  }
 ],
 "metadata": {
  "kernelspec": {
   "display_name": "Python 3 (ipykernel)",
   "language": "python",
   "name": "python3"
  },
  "language_info": {
   "codemirror_mode": {
    "name": "ipython",
    "version": 3
   },
   "file_extension": ".py",
   "mimetype": "text/x-python",
   "name": "python",
   "nbconvert_exporter": "python",
   "pygments_lexer": "ipython3",
   "version": "3.8.10"
  }
 },
 "nbformat": 4,
 "nbformat_minor": 5
}
